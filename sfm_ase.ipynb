{
 "cells": [
  {
   "cell_type": "markdown",
   "metadata": {},
   "source": [
    "### wavオーディオをクリップに分割\n",
    "ジャンル名を適宜変える"
   ]
  },
  {
   "cell_type": "code",
   "execution_count": 215,
   "metadata": {},
   "outputs": [
    {
     "name": "stdout",
     "output_type": "stream",
     "text": [
      "Saved: output_clips_30/ballad/kakashi/clip000.wav\n",
      "Saved: output_clips_30/ballad/kakashi/clip001.wav\n",
      "Saved: output_clips_30/ballad/kakashi/clip002.wav\n",
      "Saved: output_clips_30/ballad/kakashi/clip003.wav\n",
      "Saved: output_clips_30/ballad/kakashi/clip004.wav\n",
      "Saved: output_clips_30/ballad/kakashi/clip005.wav\n",
      "Saved: output_clips_30/ballad/kakashi/clip006.wav\n",
      "Saved: output_clips_30/ballad/kakashi/clip007.wav\n",
      "Saved: output_clips_30/ballad/nakayoshikomichi/clip000.wav\n",
      "Saved: output_clips_30/ballad/nakayoshikomichi/clip001.wav\n",
      "Saved: output_clips_30/ballad/nakayoshikomichi/clip002.wav\n",
      "Saved: output_clips_30/ballad/nakayoshikomichi/clip003.wav\n",
      "Saved: output_clips_30/ballad/shikararete/clip000.wav\n",
      "Saved: output_clips_30/ballad/shikararete/clip001.wav\n",
      "Saved: output_clips_30/ballad/shikararete/clip002.wav\n",
      "Saved: output_clips_30/ballad/shikararete/clip003.wav\n",
      "Saved: output_clips_30/ballad/shikararete/clip004.wav\n",
      "Saved: output_clips_30/ballad/doubutsuen/clip000.wav\n",
      "Saved: output_clips_30/ballad/doubutsuen/clip001.wav\n",
      "Saved: output_clips_30/ballad/doubutsuen/clip002.wav\n",
      "Saved: output_clips_30/ballad/hiyoko/clip000.wav\n",
      "Saved: output_clips_30/ballad/hiyoko/clip001.wav\n",
      "Saved: output_clips_30/ballad/hiyoko/clip002.wav\n",
      "Saved: output_clips_30/ballad/hiyoko/clip003.wav\n",
      "Saved: output_clips_30/ballad/hiyoko/clip004.wav\n",
      "Saved: output_clips_30/ballad/hiyoko/clip005.wav\n"
     ]
    }
   ],
   "source": [
    "from pydub import AudioSegment\n",
    "from pydub.silence import detect_nonsilent\n",
    "import os\n",
    "import glob\n",
    "\n",
    "# パラメータ設定\n",
    "clip_length_ms = 10 * 1000  \n",
    "overlap_ms = 0 * 1000     \n",
    "hop_ms = clip_length_ms - overlap_ms  # 10秒ごとにスライド\n",
    "silence_thresh_db = -55     # 無音とみなす音量（dB）\n",
    "min_silence_len_ms = 3000    # 無音とみなす最小継続時間（ミリ秒）\n",
    "\n",
    "# 入出力ディレクトリ\n",
    "input_pattern = os.path.join(\"ballad\", \"**\", \"vocal_percussion.wav\")\n",
    "input_files = glob.glob(input_pattern, recursive=True)\n",
    "output_dir = \"output_clips_30/ballad\"\n",
    "os.makedirs(output_dir, exist_ok=True)\n",
    "\n",
    "# フルパスに変換して処理\n",
    "for file_path in input_files:\n",
    "    audio = AudioSegment.from_wav(file_path)\n",
    "    filename = os.path.splitext(os.path.basename(os.path.dirname(file_path)))[0]  # フォルダ名をベースに使う\n",
    "    # 無音でない区間を検出して抽出\n",
    "    nonsilent_ranges = detect_nonsilent(audio, min_silence_len=min_silence_len_ms, silence_thresh=silence_thresh_db)\n",
    "    \n",
    "    if not nonsilent_ranges:\n",
    "        print(f\"No nonsilent audio detected in {file_path}\")\n",
    "        continue\n",
    "\n",
    "    # 無音を取り除いた新しい音声\n",
    "    non_silent_audio = AudioSegment.empty()\n",
    "    for start_i, end_i in nonsilent_ranges:\n",
    "        non_silent_audio += audio[start_i:end_i]\n",
    "\n",
    "    # 分割処理\n",
    "    start = 0\n",
    "    clip_index = 0\n",
    "    duration_ms = len(non_silent_audio)\n",
    "    while start < duration_ms:\n",
    "        end = min(start + clip_length_ms, duration_ms)\n",
    "        clip = non_silent_audio[start:end]\n",
    "        # 30秒未満のクリップはスキップ\n",
    "        if len(clip) < clip_length_ms:\n",
    "            break  # 以降すべて30秒未満になるので終了\n",
    "        output_path = os.path.join(output_dir, f\"{filename}/clip{clip_index:03d}.wav\")\n",
    "        os.makedirs(os.path.dirname(output_path), exist_ok=True)\n",
    "        clip.export(output_path, format=\"wav\")\n",
    "        print(f\"Saved: {output_path}\")\n",
    "        clip_index += 1\n",
    "        start += hop_ms\n"
   ]
  },
  {
   "cell_type": "markdown",
   "metadata": {},
   "source": [
    "### 特定のジャンルの全てのクリップを読み込む"
   ]
  },
  {
   "cell_type": "code",
   "execution_count": 246,
   "metadata": {},
   "outputs": [
    {
     "name": "stdout",
     "output_type": "stream",
     "text": [
      "読み込むファイル数: 27\n",
      "output_clips_30/soulfunk/dokokadeharuga/clip004.wav\n",
      "output_clips_30/soulfunk/dokokadeharuga/clip002.wav\n",
      "output_clips_30/soulfunk/dokokadeharuga/clip003.wav\n",
      "output_clips_30/soulfunk/dokokadeharuga/clip001.wav\n",
      "output_clips_30/soulfunk/dokokadeharuga/clip000.wav\n",
      "output_clips_30/soulfunk/makibanoasa/clip004.wav\n",
      "output_clips_30/soulfunk/makibanoasa/clip002.wav\n",
      "output_clips_30/soulfunk/makibanoasa/clip003.wav\n",
      "output_clips_30/soulfunk/makibanoasa/clip001.wav\n",
      "output_clips_30/soulfunk/makibanoasa/clip000.wav\n",
      "output_clips_30/soulfunk/inu/clip004.wav\n",
      "output_clips_30/soulfunk/inu/clip005.wav\n",
      "output_clips_30/soulfunk/inu/clip002.wav\n",
      "output_clips_30/soulfunk/inu/clip003.wav\n",
      "output_clips_30/soulfunk/inu/clip001.wav\n",
      "output_clips_30/soulfunk/inu/clip000.wav\n",
      "output_clips_30/soulfunk/akaiboushishiroiboushi/clip004.wav\n",
      "output_clips_30/soulfunk/akaiboushishiroiboushi/clip002.wav\n",
      "output_clips_30/soulfunk/akaiboushishiroiboushi/clip003.wav\n",
      "output_clips_30/soulfunk/akaiboushishiroiboushi/clip001.wav\n",
      "output_clips_30/soulfunk/akaiboushishiroiboushi/clip000.wav\n",
      "output_clips_30/soulfunk/yurikagonouta/clip004.wav\n",
      "output_clips_30/soulfunk/yurikagonouta/clip005.wav\n",
      "output_clips_30/soulfunk/yurikagonouta/clip002.wav\n",
      "output_clips_30/soulfunk/yurikagonouta/clip003.wav\n",
      "output_clips_30/soulfunk/yurikagonouta/clip001.wav\n",
      "output_clips_30/soulfunk/yurikagonouta/clip000.wav\n"
     ]
    }
   ],
   "source": [
    "import librosa\n",
    "import librosa.display\n",
    "import matplotlib.pyplot as plt\n",
    "import numpy as np\n",
    "import glob\n",
    "import os\n",
    "\n",
    "# すべての .wav ファイルを ballad 以下から再帰的に取得\n",
    "files = glob.glob(\"output_clips_30/soulfunk/**/*.wav\", recursive=True)\n",
    "\n",
    "# ③ ラベル（ファイル名）を生成\n",
    "labels = [os.path.splitext(os.path.basename(f))[0] for f in files]\n",
    "\n",
    "# ④ 確認\n",
    "print(\"読み込むファイル数:\", len(files))\n",
    "for f in files:\n",
    "    print(f)\n"
   ]
  },
  {
   "cell_type": "markdown",
   "metadata": {},
   "source": [
    "## SFM\n",
    "#### 計算して'sfm_features.csv'に追加"
   ]
  },
  {
   "cell_type": "code",
   "execution_count": 6,
   "metadata": {},
   "outputs": [
    {
     "ename": "NameError",
     "evalue": "name 'files' is not defined",
     "output_type": "error",
     "traceback": [
      "\u001b[31m---------------------------------------------------------------------------\u001b[39m",
      "\u001b[31mNameError\u001b[39m                                 Traceback (most recent call last)",
      "\u001b[36mCell\u001b[39m\u001b[36m \u001b[39m\u001b[32mIn[6]\u001b[39m\u001b[32m, line 13\u001b[39m\n\u001b[32m     10\u001b[39m \u001b[38;5;66;03m# 既にファイルがあるかどうかでヘッダーの有無を決める\u001b[39;00m\n\u001b[32m     11\u001b[39m file_exists = os.path.isfile(output_csv)\n\u001b[32m---> \u001b[39m\u001b[32m13\u001b[39m \u001b[38;5;28;01mfor\u001b[39;00m filename \u001b[38;5;129;01min\u001b[39;00m \u001b[43mfiles\u001b[49m:\n\u001b[32m     14\u001b[39m     \u001b[38;5;66;03m# 音声読み込み\u001b[39;00m\n\u001b[32m     15\u001b[39m     y, sr = librosa.load(filename, sr=\u001b[38;5;28;01mNone\u001b[39;00m)\n\u001b[32m     17\u001b[39m     \u001b[38;5;66;03m# メルスペクトログラム計算\u001b[39;00m\n",
      "\u001b[31mNameError\u001b[39m: name 'files' is not defined"
     ]
    }
   ],
   "source": [
    "import pandas as pd\n",
    "import numpy as np\n",
    "import librosa\n",
    "import os\n",
    "\n",
    "# パラメータ\n",
    "n_bands = 24  # サブバンド数\n",
    "output_csv = 'sfm_features_30.csv'  # 結果保存先\n",
    "\n",
    "# 既にファイルがあるかどうかでヘッダーの有無を決める\n",
    "file_exists = os.path.isfile(output_csv)\n",
    "\n",
    "for filename in files:\n",
    "    # 音声読み込み\n",
    "    y, sr = librosa.load(filename, sr=None)\n",
    "\n",
    "    # メルスペクトログラム計算\n",
    "    S = librosa.feature.melspectrogram(y=y, sr=sr, n_mels=n_bands, fmax=sr//2)\n",
    "\n",
    "    # 各バンドごとのSFMを計算（平均）\n",
    "    geo_mean = np.exp(np.mean(np.log(np.maximum(S, 1e-10)), axis=1))  # ジオ平均\n",
    "    arith_mean = np.mean(S, axis=1)  # 算術平均\n",
    "    sfm_bands = geo_mean / arith_mean  # 各バンドのSFM\n",
    "\n",
    "    # 特徴ベクトルを保存\n",
    "    feature = {'filename': filename}\n",
    "    for i in range(n_bands):\n",
    "        feature[f'sfm_band_{i+1}'] = sfm_bands[i]\n",
    "\n",
    "    # DataFrameにしてCSVに追記\n",
    "    df = pd.DataFrame([feature])\n",
    "    df.to_csv(output_csv, mode='a', header=not file_exists, index=False)\n",
    "    file_exists = True  # 2回目以降はヘッダーなしで追記\n"
   ]
  },
  {
   "cell_type": "markdown",
   "metadata": {},
   "source": [
    "## ここまでを全てのジャンルで行ってから次へ"
   ]
  },
  {
   "cell_type": "markdown",
   "metadata": {},
   "source": [
    "#### AdaBoost"
   ]
  },
  {
   "cell_type": "code",
   "execution_count": 73,
   "metadata": {},
   "outputs": [
    {
     "name": "stdout",
     "output_type": "stream",
     "text": [
      "              precision    recall  f1-score   support\n",
      "\n",
      "      ballad       0.13      1.00      0.23         3\n",
      "  bossa_nova       0.00      0.00      0.00         4\n",
      "         edm       0.00      0.00      0.00         5\n",
      "        enka       0.00      0.00      0.00         3\n",
      "        jazz       0.00      0.00      0.00         1\n",
      "     neutral       0.00      0.00      0.00         3\n",
      "     popular       0.75      1.00      0.86         3\n",
      "   punk_rock       0.00      0.00      0.00         3\n",
      "      reggae       0.00      0.00      0.00         2\n",
      "    soulfunk       1.00      1.00      1.00         3\n",
      "\n",
      "    accuracy                           0.30        30\n",
      "   macro avg       0.19      0.30      0.21        30\n",
      "weighted avg       0.19      0.30      0.21        30\n",
      "\n"
     ]
    },
    {
     "name": "stderr",
     "output_type": "stream",
     "text": [
      "/Users/rinkanobukawa/Downloads/VP/jaCappella/venv/lib/python3.11/site-packages/sklearn/metrics/_classification.py:1565: UndefinedMetricWarning: Precision is ill-defined and being set to 0.0 in labels with no predicted samples. Use `zero_division` parameter to control this behavior.\n",
      "  _warn_prf(average, modifier, f\"{metric.capitalize()} is\", len(result))\n",
      "/Users/rinkanobukawa/Downloads/VP/jaCappella/venv/lib/python3.11/site-packages/sklearn/metrics/_classification.py:1565: UndefinedMetricWarning: Precision is ill-defined and being set to 0.0 in labels with no predicted samples. Use `zero_division` parameter to control this behavior.\n",
      "  _warn_prf(average, modifier, f\"{metric.capitalize()} is\", len(result))\n",
      "/Users/rinkanobukawa/Downloads/VP/jaCappella/venv/lib/python3.11/site-packages/sklearn/metrics/_classification.py:1565: UndefinedMetricWarning: Precision is ill-defined and being set to 0.0 in labels with no predicted samples. Use `zero_division` parameter to control this behavior.\n",
      "  _warn_prf(average, modifier, f\"{metric.capitalize()} is\", len(result))\n"
     ]
    }
   ],
   "source": [
    "from sklearn.model_selection import train_test_split\n",
    "from sklearn.ensemble import AdaBoostClassifier\n",
    "from sklearn.metrics import classification_report\n",
    "\n",
    "# 新しくアップロードされたファイルを読み込み、同様の前処理を実行する\n",
    "file_path = 'data/sfm_features.csv'\n",
    "df = pd.read_csv(file_path)\n",
    "\n",
    "# ジャンルラベルをファイル名から抽出\n",
    "df['label'] = df['filename'].apply(lambda x: x.split('/')[1])\n",
    "\n",
    "# ジャンルごとのサンプル数を確認（エラーの原因確認）\n",
    "label_counts = df['label'].value_counts()\n",
    "label_counts\n",
    "\n",
    "\n",
    "# 特徴量とラベルの準備\n",
    "X = df[[col for col in df.columns if col.startswith('sfm_band_')]]\n",
    "y = df['label']\n",
    "\n",
    "# 層化抽出で分割\n",
    "X_train, X_test, y_train, y_test = train_test_split(\n",
    "    X, y, test_size=0.2, random_state=42, stratify=y\n",
    ")\n",
    "\n",
    "# モデル学習\n",
    "clf = AdaBoostClassifier(random_state=42)\n",
    "clf.fit(X_train, y_train)\n",
    "\n",
    "# 評価\n",
    "y_pred = clf.predict(X_test)\n",
    "print(classification_report(y_test, y_pred))\n"
   ]
  },
  {
   "cell_type": "markdown",
   "metadata": {},
   "source": [
    "#### SVM"
   ]
  },
  {
   "cell_type": "code",
   "execution_count": 185,
   "metadata": {},
   "outputs": [
    {
     "name": "stdout",
     "output_type": "stream",
     "text": [
      "              precision    recall  f1-score   support\n",
      "\n",
      "      ballad       0.00      0.00      0.00         3\n",
      "  bossa_nova       0.75      0.50      0.60         6\n",
      "         edm       0.67      0.86      0.75         7\n",
      "        enka       0.20      0.60      0.30         5\n",
      "        jazz       1.00      0.67      0.80         3\n",
      "     neutral       0.50      0.60      0.55         5\n",
      "     popular       1.00      0.60      0.75         5\n",
      "   punk_rock       1.00      0.60      0.75         5\n",
      "      reggae       1.00      0.50      0.67         4\n",
      "    soulfunk       1.00      0.80      0.89         5\n",
      "\n",
      "    accuracy                           0.60        48\n",
      "   macro avg       0.71      0.57      0.61        48\n",
      "weighted avg       0.72      0.60      0.63        48\n",
      "\n"
     ]
    },
    {
     "name": "stderr",
     "output_type": "stream",
     "text": [
      "/Users/rinkanobukawa/Downloads/VP/jaCappella/venv/lib/python3.11/site-packages/sklearn/metrics/_classification.py:1565: UndefinedMetricWarning: Precision is ill-defined and being set to 0.0 in labels with no predicted samples. Use `zero_division` parameter to control this behavior.\n",
      "  _warn_prf(average, modifier, f\"{metric.capitalize()} is\", len(result))\n",
      "/Users/rinkanobukawa/Downloads/VP/jaCappella/venv/lib/python3.11/site-packages/sklearn/metrics/_classification.py:1565: UndefinedMetricWarning: Precision is ill-defined and being set to 0.0 in labels with no predicted samples. Use `zero_division` parameter to control this behavior.\n",
      "  _warn_prf(average, modifier, f\"{metric.capitalize()} is\", len(result))\n",
      "/Users/rinkanobukawa/Downloads/VP/jaCappella/venv/lib/python3.11/site-packages/sklearn/metrics/_classification.py:1565: UndefinedMetricWarning: Precision is ill-defined and being set to 0.0 in labels with no predicted samples. Use `zero_division` parameter to control this behavior.\n",
      "  _warn_prf(average, modifier, f\"{metric.capitalize()} is\", len(result))\n"
     ]
    }
   ],
   "source": [
    "from sklearn.model_selection import train_test_split\n",
    "from sklearn.svm import SVC\n",
    "from sklearn.metrics import classification_report\n",
    "from sklearn.preprocessing import StandardScaler\n",
    "\n",
    "# 新しくアップロードされたファイルを読み込み、同様の前処理を実行する\n",
    "file_path = 'sfm_features.csv'\n",
    "df = pd.read_csv(file_path)\n",
    "\n",
    "# ジャンルラベルをファイル名から抽出\n",
    "df['label'] = df['filename'].apply(lambda x: x.split('/')[1])\n",
    "# 特徴量とラベルの準備\n",
    "X = df[[col for col in df.columns if col.startswith('sfm_band_')]]\n",
    "y = df['label']\n",
    "\n",
    "# 特徴量のスケーリング（SVMでは重要）\n",
    "scaler = StandardScaler()\n",
    "X_scaled = scaler.fit_transform(X)\n",
    "\n",
    "# 層化抽出で訓練・テストデータに分割\n",
    "X_train, X_test, y_train, y_test = train_test_split(\n",
    "    X_scaled, y, test_size=0.2, random_state=42, stratify=y\n",
    ")\n",
    "\n",
    "# SVMモデルの訓練（RBFカーネル）\n",
    "clf = SVC(kernel='rbf', C=1.0, gamma='scale', random_state=42)\n",
    "clf.fit(X_train, y_train)\n",
    "\n",
    "# テストデータで予測し、評価レポートを出力\n",
    "y_pred = clf.predict(X_test)\n",
    "print(classification_report(y_test, y_pred))\n"
   ]
  },
  {
   "cell_type": "markdown",
   "metadata": {},
   "source": [
    "## ASE\n",
    "#### 計算して'ase_features.csv'に追加"
   ]
  },
  {
   "cell_type": "code",
   "execution_count": 4,
   "metadata": {},
   "outputs": [
    {
     "ename": "FileNotFoundError",
     "evalue": "[Errno 2] No such file or directory: 'sfm_features_30.csv'",
     "output_type": "error",
     "traceback": [
      "\u001b[31m---------------------------------------------------------------------------\u001b[39m",
      "\u001b[31mFileNotFoundError\u001b[39m                         Traceback (most recent call last)",
      "\u001b[36mCell\u001b[39m\u001b[36m \u001b[39m\u001b[32mIn[4]\u001b[39m\u001b[32m, line 11\u001b[39m\n\u001b[32m      6\u001b[39m band_edges = np.array([\n\u001b[32m      7\u001b[39m     \u001b[32m0\u001b[39m, \u001b[32m50\u001b[39m, \u001b[32m150\u001b[39m, \u001b[32m250\u001b[39m, \u001b[32m500\u001b[39m, \u001b[32m1000\u001b[39m, \u001b[32m3000\u001b[39m, \u001b[32m5000\u001b[39m, \u001b[32m8000\u001b[39m, \u001b[32m12000\u001b[39m, \u001b[32m16000\u001b[39m, \u001b[32m22050\u001b[39m\n\u001b[32m      8\u001b[39m ])\n\u001b[32m     10\u001b[39m \u001b[38;5;66;03m# SFMファイルからファイル名を取得\u001b[39;00m\n\u001b[32m---> \u001b[39m\u001b[32m11\u001b[39m df_sfm = \u001b[43mpd\u001b[49m\u001b[43m.\u001b[49m\u001b[43mread_csv\u001b[49m\u001b[43m(\u001b[49m\u001b[33;43m\"\u001b[39;49m\u001b[33;43msfm_features_30.csv\u001b[39;49m\u001b[33;43m\"\u001b[39;49m\u001b[43m)\u001b[49m  \u001b[38;5;66;03m# 自分のパスに変更\u001b[39;00m\n\u001b[32m     12\u001b[39m files = df_sfm[\u001b[33m'\u001b[39m\u001b[33mfilename\u001b[39m\u001b[33m'\u001b[39m].tolist()\n\u001b[32m     14\u001b[39m \u001b[38;5;66;03m# 特徴量計算\u001b[39;00m\n",
      "\u001b[36mFile \u001b[39m\u001b[32m~/Downloads/VP/jaCappella/venv/lib/python3.11/site-packages/pandas/io/parsers/readers.py:1026\u001b[39m, in \u001b[36mread_csv\u001b[39m\u001b[34m(filepath_or_buffer, sep, delimiter, header, names, index_col, usecols, dtype, engine, converters, true_values, false_values, skipinitialspace, skiprows, skipfooter, nrows, na_values, keep_default_na, na_filter, verbose, skip_blank_lines, parse_dates, infer_datetime_format, keep_date_col, date_parser, date_format, dayfirst, cache_dates, iterator, chunksize, compression, thousands, decimal, lineterminator, quotechar, quoting, doublequote, escapechar, comment, encoding, encoding_errors, dialect, on_bad_lines, delim_whitespace, low_memory, memory_map, float_precision, storage_options, dtype_backend)\u001b[39m\n\u001b[32m   1013\u001b[39m kwds_defaults = _refine_defaults_read(\n\u001b[32m   1014\u001b[39m     dialect,\n\u001b[32m   1015\u001b[39m     delimiter,\n\u001b[32m   (...)\u001b[39m\u001b[32m   1022\u001b[39m     dtype_backend=dtype_backend,\n\u001b[32m   1023\u001b[39m )\n\u001b[32m   1024\u001b[39m kwds.update(kwds_defaults)\n\u001b[32m-> \u001b[39m\u001b[32m1026\u001b[39m \u001b[38;5;28;01mreturn\u001b[39;00m \u001b[43m_read\u001b[49m\u001b[43m(\u001b[49m\u001b[43mfilepath_or_buffer\u001b[49m\u001b[43m,\u001b[49m\u001b[43m \u001b[49m\u001b[43mkwds\u001b[49m\u001b[43m)\u001b[49m\n",
      "\u001b[36mFile \u001b[39m\u001b[32m~/Downloads/VP/jaCappella/venv/lib/python3.11/site-packages/pandas/io/parsers/readers.py:620\u001b[39m, in \u001b[36m_read\u001b[39m\u001b[34m(filepath_or_buffer, kwds)\u001b[39m\n\u001b[32m    617\u001b[39m _validate_names(kwds.get(\u001b[33m\"\u001b[39m\u001b[33mnames\u001b[39m\u001b[33m\"\u001b[39m, \u001b[38;5;28;01mNone\u001b[39;00m))\n\u001b[32m    619\u001b[39m \u001b[38;5;66;03m# Create the parser.\u001b[39;00m\n\u001b[32m--> \u001b[39m\u001b[32m620\u001b[39m parser = \u001b[43mTextFileReader\u001b[49m\u001b[43m(\u001b[49m\u001b[43mfilepath_or_buffer\u001b[49m\u001b[43m,\u001b[49m\u001b[43m \u001b[49m\u001b[43m*\u001b[49m\u001b[43m*\u001b[49m\u001b[43mkwds\u001b[49m\u001b[43m)\u001b[49m\n\u001b[32m    622\u001b[39m \u001b[38;5;28;01mif\u001b[39;00m chunksize \u001b[38;5;129;01mor\u001b[39;00m iterator:\n\u001b[32m    623\u001b[39m     \u001b[38;5;28;01mreturn\u001b[39;00m parser\n",
      "\u001b[36mFile \u001b[39m\u001b[32m~/Downloads/VP/jaCappella/venv/lib/python3.11/site-packages/pandas/io/parsers/readers.py:1620\u001b[39m, in \u001b[36mTextFileReader.__init__\u001b[39m\u001b[34m(self, f, engine, **kwds)\u001b[39m\n\u001b[32m   1617\u001b[39m     \u001b[38;5;28mself\u001b[39m.options[\u001b[33m\"\u001b[39m\u001b[33mhas_index_names\u001b[39m\u001b[33m\"\u001b[39m] = kwds[\u001b[33m\"\u001b[39m\u001b[33mhas_index_names\u001b[39m\u001b[33m\"\u001b[39m]\n\u001b[32m   1619\u001b[39m \u001b[38;5;28mself\u001b[39m.handles: IOHandles | \u001b[38;5;28;01mNone\u001b[39;00m = \u001b[38;5;28;01mNone\u001b[39;00m\n\u001b[32m-> \u001b[39m\u001b[32m1620\u001b[39m \u001b[38;5;28mself\u001b[39m._engine = \u001b[38;5;28;43mself\u001b[39;49m\u001b[43m.\u001b[49m\u001b[43m_make_engine\u001b[49m\u001b[43m(\u001b[49m\u001b[43mf\u001b[49m\u001b[43m,\u001b[49m\u001b[43m \u001b[49m\u001b[38;5;28;43mself\u001b[39;49m\u001b[43m.\u001b[49m\u001b[43mengine\u001b[49m\u001b[43m)\u001b[49m\n",
      "\u001b[36mFile \u001b[39m\u001b[32m~/Downloads/VP/jaCappella/venv/lib/python3.11/site-packages/pandas/io/parsers/readers.py:1880\u001b[39m, in \u001b[36mTextFileReader._make_engine\u001b[39m\u001b[34m(self, f, engine)\u001b[39m\n\u001b[32m   1878\u001b[39m     \u001b[38;5;28;01mif\u001b[39;00m \u001b[33m\"\u001b[39m\u001b[33mb\u001b[39m\u001b[33m\"\u001b[39m \u001b[38;5;129;01mnot\u001b[39;00m \u001b[38;5;129;01min\u001b[39;00m mode:\n\u001b[32m   1879\u001b[39m         mode += \u001b[33m\"\u001b[39m\u001b[33mb\u001b[39m\u001b[33m\"\u001b[39m\n\u001b[32m-> \u001b[39m\u001b[32m1880\u001b[39m \u001b[38;5;28mself\u001b[39m.handles = \u001b[43mget_handle\u001b[49m\u001b[43m(\u001b[49m\n\u001b[32m   1881\u001b[39m \u001b[43m    \u001b[49m\u001b[43mf\u001b[49m\u001b[43m,\u001b[49m\n\u001b[32m   1882\u001b[39m \u001b[43m    \u001b[49m\u001b[43mmode\u001b[49m\u001b[43m,\u001b[49m\n\u001b[32m   1883\u001b[39m \u001b[43m    \u001b[49m\u001b[43mencoding\u001b[49m\u001b[43m=\u001b[49m\u001b[38;5;28;43mself\u001b[39;49m\u001b[43m.\u001b[49m\u001b[43moptions\u001b[49m\u001b[43m.\u001b[49m\u001b[43mget\u001b[49m\u001b[43m(\u001b[49m\u001b[33;43m\"\u001b[39;49m\u001b[33;43mencoding\u001b[39;49m\u001b[33;43m\"\u001b[39;49m\u001b[43m,\u001b[49m\u001b[43m \u001b[49m\u001b[38;5;28;43;01mNone\u001b[39;49;00m\u001b[43m)\u001b[49m\u001b[43m,\u001b[49m\n\u001b[32m   1884\u001b[39m \u001b[43m    \u001b[49m\u001b[43mcompression\u001b[49m\u001b[43m=\u001b[49m\u001b[38;5;28;43mself\u001b[39;49m\u001b[43m.\u001b[49m\u001b[43moptions\u001b[49m\u001b[43m.\u001b[49m\u001b[43mget\u001b[49m\u001b[43m(\u001b[49m\u001b[33;43m\"\u001b[39;49m\u001b[33;43mcompression\u001b[39;49m\u001b[33;43m\"\u001b[39;49m\u001b[43m,\u001b[49m\u001b[43m \u001b[49m\u001b[38;5;28;43;01mNone\u001b[39;49;00m\u001b[43m)\u001b[49m\u001b[43m,\u001b[49m\n\u001b[32m   1885\u001b[39m \u001b[43m    \u001b[49m\u001b[43mmemory_map\u001b[49m\u001b[43m=\u001b[49m\u001b[38;5;28;43mself\u001b[39;49m\u001b[43m.\u001b[49m\u001b[43moptions\u001b[49m\u001b[43m.\u001b[49m\u001b[43mget\u001b[49m\u001b[43m(\u001b[49m\u001b[33;43m\"\u001b[39;49m\u001b[33;43mmemory_map\u001b[39;49m\u001b[33;43m\"\u001b[39;49m\u001b[43m,\u001b[49m\u001b[43m \u001b[49m\u001b[38;5;28;43;01mFalse\u001b[39;49;00m\u001b[43m)\u001b[49m\u001b[43m,\u001b[49m\n\u001b[32m   1886\u001b[39m \u001b[43m    \u001b[49m\u001b[43mis_text\u001b[49m\u001b[43m=\u001b[49m\u001b[43mis_text\u001b[49m\u001b[43m,\u001b[49m\n\u001b[32m   1887\u001b[39m \u001b[43m    \u001b[49m\u001b[43merrors\u001b[49m\u001b[43m=\u001b[49m\u001b[38;5;28;43mself\u001b[39;49m\u001b[43m.\u001b[49m\u001b[43moptions\u001b[49m\u001b[43m.\u001b[49m\u001b[43mget\u001b[49m\u001b[43m(\u001b[49m\u001b[33;43m\"\u001b[39;49m\u001b[33;43mencoding_errors\u001b[39;49m\u001b[33;43m\"\u001b[39;49m\u001b[43m,\u001b[49m\u001b[43m \u001b[49m\u001b[33;43m\"\u001b[39;49m\u001b[33;43mstrict\u001b[39;49m\u001b[33;43m\"\u001b[39;49m\u001b[43m)\u001b[49m\u001b[43m,\u001b[49m\n\u001b[32m   1888\u001b[39m \u001b[43m    \u001b[49m\u001b[43mstorage_options\u001b[49m\u001b[43m=\u001b[49m\u001b[38;5;28;43mself\u001b[39;49m\u001b[43m.\u001b[49m\u001b[43moptions\u001b[49m\u001b[43m.\u001b[49m\u001b[43mget\u001b[49m\u001b[43m(\u001b[49m\u001b[33;43m\"\u001b[39;49m\u001b[33;43mstorage_options\u001b[39;49m\u001b[33;43m\"\u001b[39;49m\u001b[43m,\u001b[49m\u001b[43m \u001b[49m\u001b[38;5;28;43;01mNone\u001b[39;49;00m\u001b[43m)\u001b[49m\u001b[43m,\u001b[49m\n\u001b[32m   1889\u001b[39m \u001b[43m\u001b[49m\u001b[43m)\u001b[49m\n\u001b[32m   1890\u001b[39m \u001b[38;5;28;01massert\u001b[39;00m \u001b[38;5;28mself\u001b[39m.handles \u001b[38;5;129;01mis\u001b[39;00m \u001b[38;5;129;01mnot\u001b[39;00m \u001b[38;5;28;01mNone\u001b[39;00m\n\u001b[32m   1891\u001b[39m f = \u001b[38;5;28mself\u001b[39m.handles.handle\n",
      "\u001b[36mFile \u001b[39m\u001b[32m~/Downloads/VP/jaCappella/venv/lib/python3.11/site-packages/pandas/io/common.py:873\u001b[39m, in \u001b[36mget_handle\u001b[39m\u001b[34m(path_or_buf, mode, encoding, compression, memory_map, is_text, errors, storage_options)\u001b[39m\n\u001b[32m    868\u001b[39m \u001b[38;5;28;01melif\u001b[39;00m \u001b[38;5;28misinstance\u001b[39m(handle, \u001b[38;5;28mstr\u001b[39m):\n\u001b[32m    869\u001b[39m     \u001b[38;5;66;03m# Check whether the filename is to be opened in binary mode.\u001b[39;00m\n\u001b[32m    870\u001b[39m     \u001b[38;5;66;03m# Binary mode does not support 'encoding' and 'newline'.\u001b[39;00m\n\u001b[32m    871\u001b[39m     \u001b[38;5;28;01mif\u001b[39;00m ioargs.encoding \u001b[38;5;129;01mand\u001b[39;00m \u001b[33m\"\u001b[39m\u001b[33mb\u001b[39m\u001b[33m\"\u001b[39m \u001b[38;5;129;01mnot\u001b[39;00m \u001b[38;5;129;01min\u001b[39;00m ioargs.mode:\n\u001b[32m    872\u001b[39m         \u001b[38;5;66;03m# Encoding\u001b[39;00m\n\u001b[32m--> \u001b[39m\u001b[32m873\u001b[39m         handle = \u001b[38;5;28;43mopen\u001b[39;49m\u001b[43m(\u001b[49m\n\u001b[32m    874\u001b[39m \u001b[43m            \u001b[49m\u001b[43mhandle\u001b[49m\u001b[43m,\u001b[49m\n\u001b[32m    875\u001b[39m \u001b[43m            \u001b[49m\u001b[43mioargs\u001b[49m\u001b[43m.\u001b[49m\u001b[43mmode\u001b[49m\u001b[43m,\u001b[49m\n\u001b[32m    876\u001b[39m \u001b[43m            \u001b[49m\u001b[43mencoding\u001b[49m\u001b[43m=\u001b[49m\u001b[43mioargs\u001b[49m\u001b[43m.\u001b[49m\u001b[43mencoding\u001b[49m\u001b[43m,\u001b[49m\n\u001b[32m    877\u001b[39m \u001b[43m            \u001b[49m\u001b[43merrors\u001b[49m\u001b[43m=\u001b[49m\u001b[43merrors\u001b[49m\u001b[43m,\u001b[49m\n\u001b[32m    878\u001b[39m \u001b[43m            \u001b[49m\u001b[43mnewline\u001b[49m\u001b[43m=\u001b[49m\u001b[33;43m\"\u001b[39;49m\u001b[33;43m\"\u001b[39;49m\u001b[43m,\u001b[49m\n\u001b[32m    879\u001b[39m \u001b[43m        \u001b[49m\u001b[43m)\u001b[49m\n\u001b[32m    880\u001b[39m     \u001b[38;5;28;01melse\u001b[39;00m:\n\u001b[32m    881\u001b[39m         \u001b[38;5;66;03m# Binary mode\u001b[39;00m\n\u001b[32m    882\u001b[39m         handle = \u001b[38;5;28mopen\u001b[39m(handle, ioargs.mode)\n",
      "\u001b[31mFileNotFoundError\u001b[39m: [Errno 2] No such file or directory: 'sfm_features_30.csv'"
     ]
    }
   ],
   "source": [
    "import librosa\n",
    "import numpy as np\n",
    "import pandas as pd\n",
    "\n",
    "# 帯域定義\n",
    "band_edges = np.array([\n",
    "    0, 50, 150, 250, 500, 1000, 3000, 5000, 8000, 12000, 16000, 22050\n",
    "])\n",
    "\n",
    "# SFMファイルからファイル名を取得\n",
    "df_sfm = pd.read_csv(\"sfm_features_30.csv\")  # 自分のパスに変更\n",
    "files = df_sfm['filename'].tolist()\n",
    "\n",
    "# 特徴量計算\n",
    "ase_band_features = []\n",
    "\n",
    "for filename in files:\n",
    "    try:\n",
    "        y, sr = librosa.load(filename, sr=None)\n",
    "        S = np.abs(librosa.stft(y, n_fft=2048, hop_length=512))**2\n",
    "        freqs = np.linspace(0, sr/2, S.shape[0])\n",
    "\n",
    "        ase_bands = []\n",
    "        for i in range(len(band_edges) - 1):\n",
    "            fmin, fmax = band_edges[i], band_edges[i+1]\n",
    "            band_idx = np.where((freqs >= fmin) & (freqs < fmax))[0]\n",
    "            energy = np.mean(np.sum(S[band_idx, :], axis=0)) if len(band_idx) > 0 else 0.0\n",
    "            ase_bands.append(energy)\n",
    "\n",
    "        feature = {'filename': filename}\n",
    "        for i, energy in enumerate(ase_bands):\n",
    "            feature[f'ase_band_{i+1}'] = energy\n",
    "        ase_band_features.append(feature)\n",
    "\n",
    "    except Exception as e:\n",
    "        print(f\"Error processing {filename}: {e}\")\n",
    "\n",
    "# CSVに保存\n",
    "df_ase = pd.DataFrame(ase_band_features)\n",
    "df_ase.to_csv(\"data/ase_features_30.csv\", index=False)\n"
   ]
  },
  {
   "cell_type": "markdown",
   "metadata": {},
   "source": [
    "#### AdaBoost"
   ]
  },
  {
   "cell_type": "code",
   "execution_count": 79,
   "metadata": {},
   "outputs": [
    {
     "name": "stdout",
     "output_type": "stream",
     "text": [
      "              precision    recall  f1-score   support\n",
      "\n",
      "      ballad       1.00      1.00      1.00         3\n",
      "  bossa_nova       0.00      0.00      0.00         4\n",
      "         edm       0.00      0.00      0.00         5\n",
      "        enka       0.00      0.00      0.00         3\n",
      "        jazz       0.00      0.00      0.00         1\n",
      "     neutral       0.50      0.33      0.40         3\n",
      "     popular       0.00      0.00      0.00         3\n",
      "   punk_rock       0.00      0.00      0.00         3\n",
      "      reggae       0.00      0.00      0.00         2\n",
      "    soulfunk       0.12      1.00      0.21         3\n",
      "\n",
      "    accuracy                           0.23        30\n",
      "   macro avg       0.16      0.23      0.16        30\n",
      "weighted avg       0.16      0.23      0.16        30\n",
      "\n"
     ]
    },
    {
     "name": "stderr",
     "output_type": "stream",
     "text": [
      "/Users/rinkanobukawa/Downloads/VP/jaCappella/venv/lib/python3.11/site-packages/sklearn/metrics/_classification.py:1565: UndefinedMetricWarning: Precision is ill-defined and being set to 0.0 in labels with no predicted samples. Use `zero_division` parameter to control this behavior.\n",
      "  _warn_prf(average, modifier, f\"{metric.capitalize()} is\", len(result))\n",
      "/Users/rinkanobukawa/Downloads/VP/jaCappella/venv/lib/python3.11/site-packages/sklearn/metrics/_classification.py:1565: UndefinedMetricWarning: Precision is ill-defined and being set to 0.0 in labels with no predicted samples. Use `zero_division` parameter to control this behavior.\n",
      "  _warn_prf(average, modifier, f\"{metric.capitalize()} is\", len(result))\n",
      "/Users/rinkanobukawa/Downloads/VP/jaCappella/venv/lib/python3.11/site-packages/sklearn/metrics/_classification.py:1565: UndefinedMetricWarning: Precision is ill-defined and being set to 0.0 in labels with no predicted samples. Use `zero_division` parameter to control this behavior.\n",
      "  _warn_prf(average, modifier, f\"{metric.capitalize()} is\", len(result))\n"
     ]
    }
   ],
   "source": [
    "from sklearn.ensemble import AdaBoostClassifier\n",
    "from sklearn.model_selection import train_test_split\n",
    "from sklearn.preprocessing import StandardScaler\n",
    "from sklearn.metrics import classification_report\n",
    "\n",
    "# ASEファイルを読み込む\n",
    "ase_path = 'data/ase_features.csv'\n",
    "df_ase = pd.read_csv(ase_path)\n",
    "\n",
    "# ジャンルラベルをsfmと同様に抽出\n",
    "df_ase['label'] = df_ase['filename'].apply(lambda x: x.split('/')[1])\n",
    "\n",
    "# 特徴量とラベルを分離\n",
    "X = df_ase[[col for col in df_ase.columns if col.startswith('ase_band_')]]\n",
    "y = df_ase['label']\n",
    "\n",
    "# スケーリング（AdaBoostには必須ではないが念のため）\n",
    "scaler = StandardScaler()\n",
    "X_scaled = scaler.fit_transform(X)\n",
    "\n",
    "# 層化抽出で分割\n",
    "X_train, X_test, y_train, y_test = train_test_split(\n",
    "    X_scaled, y, test_size=0.2, random_state=42, stratify=y\n",
    ")\n",
    "\n",
    "# AdaBoostモデルの学習\n",
    "clf = AdaBoostClassifier(random_state=42)\n",
    "clf.fit(X_train, y_train)\n",
    "\n",
    "# 評価\n",
    "y_pred = clf.predict(X_test)\n",
    "report = classification_report(y_test, y_pred, output_dict=False)\n",
    "\n",
    "print(report)"
   ]
  },
  {
   "cell_type": "markdown",
   "metadata": {},
   "source": [
    "#### SVM"
   ]
  },
  {
   "cell_type": "code",
   "execution_count": 189,
   "metadata": {},
   "outputs": [
    {
     "name": "stdout",
     "output_type": "stream",
     "text": [
      "              precision    recall  f1-score   support\n",
      "\n",
      "      ballad       0.38      1.00      0.55         3\n",
      "  bossa_nova       1.00      1.00      1.00         6\n",
      "         edm       0.78      1.00      0.88         7\n",
      "        enka       0.00      0.00      0.00         5\n",
      "        jazz       0.50      0.33      0.40         3\n",
      "     neutral       1.00      0.80      0.89         5\n",
      "     popular       1.00      0.40      0.57         5\n",
      "   punk_rock       1.00      0.80      0.89         5\n",
      "      reggae       1.00      1.00      1.00         4\n",
      "    soulfunk       0.38      0.60      0.46         5\n",
      "\n",
      "    accuracy                           0.71        48\n",
      "   macro avg       0.70      0.69      0.66        48\n",
      "weighted avg       0.73      0.71      0.69        48\n",
      "\n"
     ]
    }
   ],
   "source": [
    "from sklearn.svm import SVC\n",
    "\n",
    "# ファイル再確認と読み込み\n",
    "ase_path = 'data/ase_features.csv'\n",
    "df_ase = pd.read_csv(ase_path)\n",
    "\n",
    "# ラベル（ジャンル名）を抽出\n",
    "df_ase['label'] = df_ase['filename'].apply(lambda x: x.split('/')[1])\n",
    "\n",
    "# 特徴量とラベルに分割\n",
    "X = df_ase[[col for col in df_ase.columns if col.startswith('ase_band_')]]\n",
    "y = df_ase['label']\n",
    "\n",
    "# 特徴量をスケーリング（SVMはスケールに敏感）\n",
    "scaler = StandardScaler()\n",
    "X_scaled = scaler.fit_transform(X)\n",
    "\n",
    "# 層化分割\n",
    "X_train, X_test, y_train, y_test = train_test_split(\n",
    "    X_scaled, y, test_size=0.2, random_state=42, stratify=y\n",
    ")\n",
    "\n",
    "# SVM（RBFカーネル）で学習\n",
    "svm_clf = SVC(kernel='rbf', C=1.0, gamma='scale', random_state=42)\n",
    "svm_clf.fit(X_train, y_train)\n",
    "\n",
    "# 予測と評価\n",
    "y_pred = svm_clf.predict(X_test)\n",
    "report = classification_report(y_test, y_pred, output_dict=False)\n",
    "\n",
    "print(report)"
   ]
  },
  {
   "cell_type": "markdown",
   "metadata": {},
   "source": [
    "## SFM+ASE\n",
    "#### SVM"
   ]
  },
  {
   "cell_type": "code",
   "execution_count": 3,
   "metadata": {},
   "outputs": [
    {
     "ename": "NameError",
     "evalue": "name 'pd' is not defined",
     "output_type": "error",
     "traceback": [
      "\u001b[31m---------------------------------------------------------------------------\u001b[39m",
      "\u001b[31mNameError\u001b[39m                                 Traceback (most recent call last)",
      "\u001b[36mCell\u001b[39m\u001b[36m \u001b[39m\u001b[32mIn[3]\u001b[39m\u001b[32m, line 5\u001b[39m\n\u001b[32m      2\u001b[39m sfm_path = \u001b[33m'\u001b[39m\u001b[33mdata/sfm_features.csv\u001b[39m\u001b[33m'\u001b[39m\n\u001b[32m      3\u001b[39m ase_path = \u001b[33m'\u001b[39m\u001b[33mdata/ase_features.csv\u001b[39m\u001b[33m'\u001b[39m\n\u001b[32m----> \u001b[39m\u001b[32m5\u001b[39m df_sfm = \u001b[43mpd\u001b[49m.read_csv(sfm_path)\n\u001b[32m      6\u001b[39m df_ase = pd.read_csv(ase_path)\n\u001b[32m      8\u001b[39m \u001b[38;5;66;03m# 共通の 'filename' をキーにマージ（内部結合）\u001b[39;00m\n",
      "\u001b[31mNameError\u001b[39m: name 'pd' is not defined"
     ]
    }
   ],
   "source": [
    "# SFMファイルとASEファイルの読み込み\n",
    "sfm_path = 'data/sfm_features.csv'\n",
    "ase_path = 'data/ase_features.csv'\n",
    "\n",
    "df_sfm = pd.read_csv(sfm_path)\n",
    "df_ase = pd.read_csv(ase_path)\n",
    "\n",
    "# 共通の 'filename' をキーにマージ（内部結合）\n",
    "df_combined = pd.merge(df_sfm, df_ase, on='filename')\n",
    "\n",
    "# ラベル列を抽出（ファイル名の2番目の要素）\n",
    "df_combined['label'] = df_combined['filename'].apply(lambda x: x.split('/')[1])\n",
    "\n",
    "# 特徴量列（sfm_band_*, ase_band_*）の抽出\n",
    "feature_cols = [col for col in df_combined.columns if col.startswith('sfm_band_') or col.startswith('ase_band_')]\n",
    "X = df_combined[feature_cols]\n",
    "y = df_combined['label']\n",
    "\n",
    "# 特徴量をスケーリング\n",
    "scaler = StandardScaler()\n",
    "X_scaled = scaler.fit_transform(X)\n",
    "\n",
    "# 層化抽出で訓練・テスト分割\n",
    "X_train, X_test, y_train, y_test = train_test_split(\n",
    "    X_scaled, y, test_size=0.2, random_state=42, stratify=y\n",
    ")\n",
    "\n",
    "# SVM（RBFカーネル）で学習\n",
    "svm_clf = SVC(kernel='rbf', C=1.0, gamma='scale', random_state=42)\n",
    "svm_clf.fit(X_train, y_train)\n",
    "\n",
    "# 予測と評価\n",
    "y_pred = svm_clf.predict(X_test)\n",
    "report = classification_report(y_test, y_pred, output_dict=False)\n",
    "\n",
    "print(report)"
   ]
  },
  {
   "cell_type": "markdown",
   "metadata": {},
   "source": [
    "#### confusion matrix"
   ]
  },
  {
   "cell_type": "code",
   "execution_count": 199,
   "metadata": {},
   "outputs": [
    {
     "data": {
      "image/png": "[encoded data removed]",
      "text/plain": [
       "<Figure size 640x480 with 2 Axes>"
      ]
     },
     "metadata": {},
     "output_type": "display_data"
    }
   ],
   "source": [
    "from sklearn.metrics import confusion_matrix, ConfusionMatrixDisplay\n",
    "import matplotlib.pyplot as plt\n",
    "\n",
    "# SFM・ASEの統合ファイルを再読み込み\n",
    "df_sfm = pd.read_csv('data/sfm_features.csv')\n",
    "df_ase = pd.read_csv('data/ase_features.csv')\n",
    "df_combined = pd.merge(df_sfm, df_ase, on='filename')\n",
    "\n",
    "# ラベル（ジャンル名）を抽出\n",
    "df_combined['label'] = df_combined['filename'].apply(lambda x: x.split('/')[1])\n",
    "\n",
    "# 特徴量とラベルに分割\n",
    "X = df_combined[[col for col in df_combined.columns if col.startswith('sfm_band_') or col.startswith('ase_band_')]]\n",
    "y = df_combined['label']\n",
    "\n",
    "# 特徴量をスケーリング\n",
    "scaler = StandardScaler()\n",
    "X_scaled = scaler.fit_transform(X)\n",
    "\n",
    "# 訓練・テスト分割（層化あり）\n",
    "X_train, X_test, y_train, y_test = train_test_split(\n",
    "    X_scaled, y, test_size=0.2, random_state=42, stratify=y\n",
    ")\n",
    "\n",
    "# SVM学習\n",
    "svm_clf = SVC(kernel='rbf', C=1.0, gamma='scale', random_state=42)\n",
    "svm_clf.fit(X_train, y_train)\n",
    "\n",
    "# 予測\n",
    "y_pred = svm_clf.predict(X_test)\n",
    "\n",
    "# 混同行列の作成と表示\n",
    "labels = svm_clf.classes_\n",
    "cm = confusion_matrix(y_test, y_pred, labels=labels)\n",
    "\n",
    "# 表示\n",
    "disp = ConfusionMatrixDisplay(confusion_matrix=cm, display_labels=labels)\n",
    "disp.plot(xticks_rotation=45, cmap='RdPu')\n",
    "plt.title('Confusion Matrix (SVM with SFM + ASE)')\n",
    "plt.tight_layout()\n",
    "plt.show()"
   ]
  },
  {
   "cell_type": "markdown",
   "metadata": {},
   "source": [
    "#### 交差検証"
   ]
  },
  {
   "cell_type": "code",
   "execution_count": 130,
   "metadata": {},
   "outputs": [
    {
     "name": "stdout",
     "output_type": "stream",
     "text": [
      "Cross-validation scores: [0.75925926 0.83018868 0.90566038 0.86792453 0.88679245]\n",
      "Mean accuracy: 0.8499650593990218\n"
     ]
    }
   ],
   "source": [
    "import pandas as pd\n",
    "import numpy as np\n",
    "from sklearn.svm import SVC\n",
    "from sklearn.model_selection import cross_val_score, StratifiedKFold\n",
    "from sklearn.preprocessing import StandardScaler\n",
    "\n",
    "# データの読み込みと統合\n",
    "df_sfm = pd.read_csv(\"data/sfm_features.csv\")\n",
    "df_ase = pd.read_csv(\"data/ase_features.csv\")\n",
    "df_combined = pd.merge(df_sfm, df_ase, on=\"filename\")\n",
    "\n",
    "# ラベル（ジャンル）を抽出\n",
    "df_combined[\"label\"] = df_combined[\"filename\"].apply(lambda x: x.split(\"/\")[1])\n",
    "\n",
    "# 特徴量とラベルに分割\n",
    "X = df_combined[[col for col in df_combined.columns if col.startswith(\"sfm_band_\") or col.startswith(\"ase_band_\")]]\n",
    "y = df_combined[\"label\"]\n",
    "\n",
    "# スケーリング\n",
    "scaler = StandardScaler()\n",
    "X_scaled = scaler.fit_transform(X)\n",
    "\n",
    "# SVM分類器（RBFカーネル）\n",
    "clf = SVC(kernel=\"rbf\", C=1.0, gamma=\"scale\", random_state=42)\n",
    "\n",
    "# 5分割 Stratified K-Fold で交差検証\n",
    "cv = StratifiedKFold(n_splits=5, shuffle=True, random_state=42)\n",
    "scores = cross_val_score(clf, X_scaled, y, cv=cv)\n",
    "\n",
    "# 結果表示\n",
    "print(\"Cross-validation scores:\", scores)\n",
    "print(\"Mean accuracy:\", np.mean(scores))"
   ]
  },
  {
   "cell_type": "markdown",
   "metadata": {},
   "source": [
    "#### データ数の確認"
   ]
  },
  {
   "cell_type": "code",
   "execution_count": 1,
   "metadata": {},
   "outputs": [
    {
     "ename": "NameError",
     "evalue": "name 'X_train' is not defined",
     "output_type": "error",
     "traceback": [
      "\u001b[31m---------------------------------------------------------------------------\u001b[39m",
      "\u001b[31mNameError\u001b[39m                                 Traceback (most recent call last)",
      "\u001b[36mCell\u001b[39m\u001b[36m \u001b[39m\u001b[32mIn[1]\u001b[39m\u001b[32m, line 1\u001b[39m\n\u001b[32m----> \u001b[39m\u001b[32m1\u001b[39m \u001b[38;5;28mprint\u001b[39m(\u001b[33mf\u001b[39m\u001b[33m\"\u001b[39m\u001b[33m学習データ数: \u001b[39m\u001b[38;5;132;01m{\u001b[39;00m\u001b[38;5;28mlen\u001b[39m(\u001b[43mX_train\u001b[49m)\u001b[38;5;132;01m}\u001b[39;00m\u001b[33m\"\u001b[39m)\n\u001b[32m      2\u001b[39m \u001b[38;5;28mprint\u001b[39m(\u001b[33mf\u001b[39m\u001b[33m\"\u001b[39m\u001b[33mテストデータ数: \u001b[39m\u001b[38;5;132;01m{\u001b[39;00m\u001b[38;5;28mlen\u001b[39m(X_test)\u001b[38;5;132;01m}\u001b[39;00m\u001b[33m\"\u001b[39m)\n",
      "\u001b[31mNameError\u001b[39m: name 'X_train' is not defined"
     ]
    }
   ],
   "source": [
    "print(f\"学習データ数: {len(X_train)}\")\n",
    "print(f\"テストデータ数: {len(X_test)}\")"
   ]
  },
  {
   "cell_type": "markdown",
   "metadata": {},
   "source": [
    "#### 間違えたサンプルを表示する"
   ]
  },
  {
   "cell_type": "code",
   "execution_count": 132,
   "metadata": {},
   "outputs": [
    {
     "name": "stdout",
     "output_type": "stream",
     "text": [
      "                                            filename true_label  \\\n",
      "10   output_clips/soulfunk/yurikagonouta_clip000.wav   soulfunk   \n",
      "172  output_clips/edm/yamaderanooshousan_clip002.wav        edm   \n",
      "159         output_clips/enka/fujinoyama_clip000.wav       enka   \n",
      "188            output_clips/edm/sunayama_clip006.wav        edm   \n",
      "152   output_clips/enka/juugoyaotsukisan_clip001.wav       enka   \n",
      "123        output_clips/jazz/nanatsunoko_clip000.wav       jazz   \n",
      "\n",
      "    predicted_label  \n",
      "10           ballad  \n",
      "172            enka  \n",
      "159             edm  \n",
      "188            enka  \n",
      "152             edm  \n",
      "123          ballad  \n"
     ]
    }
   ],
   "source": [
    "# 予測と正解が異なるインデックスを取得\n",
    "misclassified_indices = (y_test != y_pred)\n",
    "\n",
    "# 間違えたサンプルだけを抽出\n",
    "df_misclassified = pd.DataFrame({\n",
    "    'filename': df_combined.iloc[y_test.index]['filename'],\n",
    "    'true_label': y_test,\n",
    "    'predicted_label': y_pred\n",
    "})[misclassified_indices]\n",
    "\n",
    "# 表示\n",
    "print(df_misclassified)\n"
   ]
  },
  {
   "cell_type": "markdown",
   "metadata": {},
   "source": [
    "## 4曲を学習、１曲をテスト\n"
   ]
  },
  {
   "cell_type": "code",
   "execution_count": 253,
   "metadata": {},
   "outputs": [
    {
     "name": "stdout",
     "output_type": "stream",
     "text": [
      "              precision    recall  f1-score   support\n",
      "\n",
      "      ballad       0.67      0.54      0.60        26\n",
      "  bossa_nova       0.96      0.93      0.95        28\n",
      "         edm       0.66      0.64      0.65        33\n",
      "        enka       0.62      0.59      0.60        27\n",
      "        jazz       0.62      0.59      0.61        17\n",
      "     neutral       0.77      0.74      0.76        23\n",
      "     popular       0.44      0.83      0.58        23\n",
      "   punk_rock       1.00      0.89      0.94        27\n",
      "      reggae       1.00      0.84      0.91        19\n",
      "    soulfunk       1.00      0.85      0.92        27\n",
      "\n",
      "    accuracy                           0.74       250\n",
      "   macro avg       0.77      0.74      0.75       250\n",
      "weighted avg       0.78      0.74      0.75       250\n",
      "\n"
     ]
    },
    {
     "data": {
      "image/png": "[encoded data removed]",
      "text/plain": [
       "<Figure size 640x480 with 2 Axes>"
      ]
     },
     "metadata": {},
     "output_type": "display_data"
    }
   ],
   "source": [
    "# ライブラリの再インポート（セッションリセットされたため）\n",
    "import pandas as pd\n",
    "import numpy as np\n",
    "from sklearn.svm import SVC\n",
    "from sklearn.preprocessing import StandardScaler\n",
    "from sklearn.metrics import classification_report, confusion_matrix\n",
    "\n",
    "# アップロードされたファイルを再読み込み\n",
    "sfm_path = 'data/sfm_features_30.csv'\n",
    "ase_path = 'data/ase_features_30.csv'\n",
    "df_sfm = pd.read_csv(sfm_path)\n",
    "df_ase = pd.read_csv(ase_path)\n",
    "\n",
    "# 結合\n",
    "df = pd.merge(df_sfm, df_ase, on='filename')\n",
    "\n",
    "# ラベルと曲名抽出\n",
    "df['label'] = df['filename'].apply(lambda x: x.split('/')[1])       # ジャンル\n",
    "df['song'] = df['filename'].apply(lambda x: x.split('/')[2])        # 曲名（3番目のディレクトリ）\n",
    "\n",
    "# 結果保存用\n",
    "all_true = []\n",
    "all_pred = []\n",
    "\n",
    "# 各ジャンルごとに1曲をテスト、残りを学習に使う\n",
    "unique_labels = df['label'].unique()\n",
    "for label in unique_labels:\n",
    "    songs = df[df['label'] == label]['song'].unique()\n",
    "    for test_song in songs:\n",
    "        # 学習・テスト分割（曲単位）\n",
    "        test_idx = (df['label'] == label) & (df['song'] == test_song)\n",
    "        train_idx = (df['label'] != label) | (df['song'] != test_song)\n",
    "\n",
    "        X_train = df.loc[train_idx, df.columns.str.startswith(('sfm_band_', 'ase_band_'))]\n",
    "        y_train = df.loc[train_idx, 'label']\n",
    "        X_test = df.loc[test_idx, df.columns.str.startswith(('sfm_band_', 'ase_band_'))]\n",
    "        y_test = df.loc[test_idx, 'label']\n",
    "\n",
    "        # スケーリング\n",
    "        scaler = StandardScaler()\n",
    "        X_train_scaled = scaler.fit_transform(X_train)\n",
    "        X_test_scaled = scaler.transform(X_test)\n",
    "\n",
    "        # SVM訓練・予測\n",
    "        clf = SVC(kernel='rbf', C=1.0, gamma='scale', random_state=42)\n",
    "        clf.fit(X_train_scaled, y_train)\n",
    "        y_pred = clf.predict(X_test_scaled)\n",
    "\n",
    "        # 結果を蓄積\n",
    "        all_true.extend(y_test)\n",
    "        all_pred.extend(y_pred)\n",
    "\n",
    "# 混同行列と分類レポート\n",
    "labels = sorted(df['label'].unique())  # ← dfから使っていたものと一致\n",
    "report = classification_report(all_true, all_pred, output_dict=False)\n",
    "cm = confusion_matrix(all_true, all_pred, labels=labels)\n",
    "\n",
    "# 表示\n",
    "print(report)\n",
    "\n",
    "disp = ConfusionMatrixDisplay(confusion_matrix=cm, display_labels=labels)\n",
    "disp.plot(xticks_rotation=45, cmap='RdPu')\n",
    "plt.title('Confusion Matrix (SVM with SFM + ASE)')\n",
    "plt.tight_layout()\n",
    "plt.show()\n"
   ]
  },
  {
   "cell_type": "code",
   "execution_count": 254,
   "metadata": {},
   "outputs": [
    {
     "name": "stdout",
     "output_type": "stream",
     "text": [
      "| genre      | song                     |   n_segments |   accuracy |\n",
      "|------------|--------------------------|--------------|------------|\n",
      "| ballad     | doubutsuen               |            3 |       0.67 |\n",
      "|            | hiyoko                   |            6 |       0.67 |\n",
      "|            | kakashi                  |            8 |       0.25 |\n",
      "|            | nakayoshikomichi         |            4 |       0.25 |\n",
      "|            | shikararete              |            5 |       1    |\n",
      "| bossa_nova | dongurikorokoro          |            7 |       0.86 |\n",
      "|            | haruyokoi                |            5 |       0.8  |\n",
      "|            | ryousen                  |            5 |       1    |\n",
      "|            | touriyanse               |            6 |       1    |\n",
      "|            | urashimatarou            |            5 |       1    |\n",
      "| edm        | koganemushi              |            5 |       1    |\n",
      "|            | meemeekoyagi             |            6 |       0.5  |\n",
      "|            | momiji                   |            7 |       0.57 |\n",
      "|            | sunayama                 |            8 |       0.62 |\n",
      "|            | yamaderanooshousan       |            7 |       0.57 |\n",
      "| enka       | aogebatoutoshi           |            6 |       0.83 |\n",
      "|            | fujinoyama               |            6 |       0.67 |\n",
      "|            | hiraitahiraita           |            4 |       0.25 |\n",
      "|            | juugoyaotsukisan         |            6 |       0.17 |\n",
      "|            | koujounotsuki            |            5 |       1    |\n",
      "| jazz       | akaikutsu                |            3 |       0    |\n",
      "|            | machibouke               |            3 |       0.67 |\n",
      "|            | nanatsunoko              |            4 |       0.75 |\n",
      "|            | otamajakushi             |            3 |       0.67 |\n",
      "|            | popura                   |            4 |       0.75 |\n",
      "| neutral    | harugakita               |            3 |       1    |\n",
      "|            | hato                     |            3 |       1    |\n",
      "|            | katatsumuri              |            3 |       0    |\n",
      "|            | komoriuta                |            6 |       0.83 |\n",
      "|            | momotarou                |            8 |       0.75 |\n",
      "| popular    | akatonbo                 |            5 |       0.8  |\n",
      "|            | chatsumi                 |            7 |       1    |\n",
      "|            | koinobori                |            2 |       1    |\n",
      "|            | kutsuganaru              |            5 |       0.8  |\n",
      "|            | yuki                     |            4 |       0.5  |\n",
      "| punk_rock  | anomachikonomachi        |            5 |       1    |\n",
      "|            | chouchou                 |            6 |       0.83 |\n",
      "|            | hanyuunoyado             |            5 |       0.8  |\n",
      "|            | kaerutokumo              |            5 |       1    |\n",
      "|            | shabondama               |            6 |       0.83 |\n",
      "| reggae     | kisha                    |            4 |       1    |\n",
      "|            | muranokajiya             |            4 |       1    |\n",
      "|            | omochanomaachi           |            3 |       1    |\n",
      "|            | shoujoujinotanukibayashi |            4 |       1    |\n",
      "|            | usagitokame              |            4 |       0.25 |\n",
      "| soulfunk   | akaiboushishiroiboushi   |            5 |       0.8  |\n",
      "|            | dokokadeharuga           |            5 |       1    |\n",
      "|            | inu                      |            6 |       0.83 |\n",
      "|            | makibanoasa              |            5 |       0.8  |\n",
      "|            | yurikagonouta            |            6 |       0.83 |\n"
     ]
    }
   ],
   "source": [
    "from sklearn.svm import SVC\n",
    "from sklearn.preprocessing import StandardScaler\n",
    "from sklearn.metrics import accuracy_score\n",
    "import pandas as pd\n",
    "from tabulate import tabulate\n",
    "# # SFM + ASE の結合済みデータを読み込み\n",
    "# df_sfm = pd.read_csv(\"sfm_features.csv\")\n",
    "# df_ase = pd.read_csv(\"ase_features.csv\")\n",
    "# df = pd.merge(df_sfm, df_ase, on=\"filename\")\n",
    "\n",
    "# ジャンルと曲名を抽出\n",
    "df[\"label\"] = df[\"filename\"].apply(lambda x: x.split(\"/\")[1])\n",
    "df[\"song\"] = df[\"filename\"].apply(lambda x: x.split(\"/\")[2])\n",
    "\n",
    "X = df[[col for col in df.columns if col.startswith(\"sfm_band_\") or col.startswith(\"ase_band_\")]]\n",
    "y = df[\"label\"]\n",
    "\n",
    "# 曲ごとの精度記録\n",
    "results = []\n",
    "\n",
    "for label in df[\"label\"].unique():\n",
    "    for song in df[df[\"label\"] == label][\"song\"].unique():\n",
    "        test_idx = (df[\"label\"] == label) & (df[\"song\"] == song)\n",
    "        train_idx = ~test_idx\n",
    "\n",
    "        X_train = X.loc[train_idx]\n",
    "        y_train = y.loc[train_idx]\n",
    "        X_test = X.loc[test_idx]\n",
    "        y_test = y.loc[test_idx]\n",
    "\n",
    "        scaler = StandardScaler()\n",
    "        X_train_scaled = scaler.fit_transform(X_train)\n",
    "        X_test_scaled = scaler.transform(X_test)\n",
    "\n",
    "        clf = SVC(kernel=\"rbf\", C=1.0, gamma=\"scale\", random_state=42)\n",
    "        clf.fit(X_train_scaled, y_train)\n",
    "        y_pred = clf.predict(X_test_scaled)\n",
    "\n",
    "        acc = accuracy_score(y_test, y_pred)\n",
    "        results.append({\n",
    "            \"genre\": label,\n",
    "            \"song\": song,\n",
    "            \"n_segments\": len(y_test),\n",
    "            \"accuracy\": acc\n",
    "        })\n",
    "\n",
    "# 表として出力\n",
    "results_df = pd.DataFrame(results)\n",
    "# accuracy を小数第2位に丸める\n",
    "results_df[\"accuracy\"] = results_df[\"accuracy\"].round(2)\n",
    "\n",
    "# ソート（ジャンル → 曲名）\n",
    "results_df = results_df.sort_values(by=[\"genre\", \"song\"])\n",
    "\n",
    "# インデント付きで曲名を整形\n",
    "results_df[\"song\"] = results_df[\"song\"].apply(lambda x: f\"  {x}\")\n",
    "\n",
    "# 最初の曲だけ genre 表示、それ以降は空文字に\n",
    "results_df[\"genre_display\"] = results_df[\"genre\"]\n",
    "results_df.loc[results_df[\"genre_display\"].duplicated(), \"genre_display\"] = \"\"\n",
    "\n",
    "# 表示用 DataFrame\n",
    "display_df = results_df[[\"genre_display\", \"song\", \"n_segments\", \"accuracy\"]]\n",
    "display_df.columns = [\"genre\", \"song\", \"n_segments\", \"accuracy\"]\n",
    "\n",
    "# tabulate を使って整形表示（print用）\n",
    "print(tabulate(display_df, headers='keys', tablefmt='github', showindex=False))\n"
   ]
  },
  {
   "cell_type": "code",
   "execution_count": 255,
   "metadata": {},
   "outputs": [
    {
     "name": "stdout",
     "output_type": "stream",
     "text": [
      "              precision    recall  f1-score   support\n",
      "\n",
      "      ballad       0.50      0.31      0.38        16\n",
      "  bossa_nova       0.96      0.79      0.86        28\n",
      "         edm       0.62      0.61      0.62        33\n",
      "        enka       0.47      0.67      0.55        27\n",
      "        jazz       0.75      0.53      0.62        17\n",
      "     neutral       0.71      0.52      0.60        23\n",
      "     popular       0.14      0.26      0.18        23\n",
      "   punk_rock       1.00      0.89      0.94        27\n",
      "      reggae       0.88      0.79      0.83        19\n",
      "    soulfunk       1.00      0.85      0.92        27\n",
      "\n",
      "    accuracy                           0.64       240\n",
      "   macro avg       0.70      0.62      0.65       240\n",
      "weighted avg       0.71      0.64      0.67       240\n",
      "\n"
     ]
    },
    {
     "data": {
      "image/png": "[encoded data removed]",
      "text/plain": [
       "<Figure size 640x480 with 2 Axes>"
      ]
     },
     "metadata": {},
     "output_type": "display_data"
    }
   ],
   "source": [
    "from sklearn.model_selection import GroupKFold\n",
    "from sklearn.svm import SVC\n",
    "from sklearn.preprocessing import StandardScaler\n",
    "from sklearn.metrics import classification_report, confusion_matrix\n",
    "import pandas as pd\n",
    "import numpy as np\n",
    "\n",
    "# データ読み込み & 結合\n",
    "df_sfm = pd.read_csv(\"data/sfm_features.csv\")\n",
    "df_ase = pd.read_csv(\"data/ase_features.csv\")\n",
    "df = pd.merge(df_sfm, df_ase, on=\"filename\")\n",
    "\n",
    "# ラベルと曲名抽出\n",
    "df[\"label\"] = df[\"filename\"].apply(lambda x: x.split('/')[1])  # ジャンル\n",
    "df[\"song\"] = df[\"filename\"].apply(lambda x: x.split('/')[2])   # 曲名\n",
    "\n",
    "# 特徴量・ラベル・グループ\n",
    "X = df[[col for col in df.columns if col.startswith(\"sfm_band_\") or col.startswith(\"ase_band_\")]]\n",
    "y = df[\"label\"]\n",
    "groups = df[\"song\"]  # 曲単位でfoldを分ける\n",
    "\n",
    "# モデル・評価用リスト\n",
    "all_true, all_pred = [], []\n",
    "\n",
    "# GroupKFold（曲ごとに分割）を使った5分割CV\n",
    "gkf = GroupKFold(n_splits=5)\n",
    "for train_idx, test_idx in gkf.split(X, y, groups):\n",
    "    X_train, X_test = X.iloc[train_idx], X.iloc[test_idx]\n",
    "    y_train, y_test = y.iloc[train_idx], y.iloc[test_idx]\n",
    "\n",
    "    # スケーリング\n",
    "    scaler = StandardScaler()\n",
    "    X_train_scaled = scaler.fit_transform(X_train)\n",
    "    X_test_scaled = scaler.transform(X_test)\n",
    "\n",
    "    # SVM訓練・予測\n",
    "    clf = SVC(kernel='rbf', C=1.0, gamma='scale', random_state=42)\n",
    "    clf.fit(X_train_scaled, y_train)\n",
    "    y_pred = clf.predict(X_test_scaled)\n",
    "\n",
    "    # 保存\n",
    "    all_true.extend(y_test)\n",
    "    all_pred.extend(y_pred)\n",
    "\n",
    "# 結果出力\n",
    "print(classification_report(all_true, all_pred))\n",
    "\n",
    "disp = ConfusionMatrixDisplay(confusion_matrix=cm, display_labels=labels)\n",
    "disp.plot(xticks_rotation=45, cmap='RdPu')\n",
    "plt.title('Confusion Matrix (SVM with SFM + ASE)')\n",
    "plt.tight_layout()\n",
    "plt.show()"
   ]
  },
  {
   "cell_type": "code",
   "execution_count": 256,
   "metadata": {},
   "outputs": [
    {
     "name": "stdout",
     "output_type": "stream",
     "text": [
      "Fold 1: accuracy = 0.7347\n",
      "Fold 2: accuracy = 0.7083\n",
      "Fold 3: accuracy = 0.5625\n",
      "Fold 4: accuracy = 0.6383\n",
      "Fold 5: accuracy = 0.5625\n",
      "\n",
      "Mean accuracy over 5 folds: 0.6413\n"
     ]
    }
   ],
   "source": [
    "from sklearn.metrics import accuracy_score\n",
    "\n",
    "# fold番号と精度を記録\n",
    "fold_accuracies = []\n",
    "\n",
    "for fold, (train_idx, test_idx) in enumerate(gkf.split(X, y, groups), 1):\n",
    "    X_train, X_test = X.iloc[train_idx], X.iloc[test_idx]\n",
    "    y_train, y_test = y.iloc[train_idx], y.iloc[test_idx]\n",
    "\n",
    "    scaler = StandardScaler()\n",
    "    X_train_scaled = scaler.fit_transform(X_train)\n",
    "    X_test_scaled = scaler.transform(X_test)\n",
    "\n",
    "    clf.fit(X_train_scaled, y_train)\n",
    "    y_pred = clf.predict(X_test_scaled)\n",
    "\n",
    "    acc = accuracy_score(y_test, y_pred)\n",
    "    fold_accuracies.append((fold, acc))\n",
    "    print(f\"Fold {fold}: accuracy = {acc:.4f}\")\n",
    "\n",
    "# 平均精度\n",
    "mean_acc = np.mean([a for _, a in fold_accuracies])\n",
    "print(f\"\\nMean accuracy over 5 folds: {mean_acc:.4f}\")"
   ]
  }
 ],
 "metadata": {
  "kernelspec": {
   "display_name": "venv",
   "language": "python",
   "name": "python3"
  },
  "language_info": {
   "codemirror_mode": {
    "name": "ipython",
    "version": 3
   },
   "file_extension": ".py",
   "mimetype": "text/x-python",
   "name": "python",
   "nbconvert_exporter": "python",
   "pygments_lexer": "ipython3",
   "version": "3.11.9"
  }
 },
 "nbformat": 4,
 "nbformat_minor": 2
}
